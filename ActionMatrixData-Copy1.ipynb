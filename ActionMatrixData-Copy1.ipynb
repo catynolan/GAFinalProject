{
 "cells": [
  {
   "cell_type": "code",
   "execution_count": 27,
   "metadata": {},
   "outputs": [],
   "source": [
    "import pandas as pd\n",
    "import numpy as np\n",
    "import seaborn as sns\n",
    "import matplotlib.pyplot as plt\n",
    "\n",
    "%matplotlib inline"
   ]
  },
  {
   "cell_type": "code",
   "execution_count": 28,
   "metadata": {},
   "outputs": [],
   "source": [
    "actionmatrix = pd.read_excel(r\"C:\\Users\\CEN1\\OneDrive - U.S. NRC\\CEN1\\GAData\\actionmatrixraw.xlsx\", index_col=0)"
   ]
  },
  {
   "cell_type": "code",
   "execution_count": 29,
   "metadata": {},
   "outputs": [
    {
     "data": {
      "text/html": [
       "<div>\n",
       "<style scoped>\n",
       "    .dataframe tbody tr th:only-of-type {\n",
       "        vertical-align: middle;\n",
       "    }\n",
       "\n",
       "    .dataframe tbody tr th {\n",
       "        vertical-align: top;\n",
       "    }\n",
       "\n",
       "    .dataframe thead th {\n",
       "        text-align: right;\n",
       "    }\n",
       "</style>\n",
       "<table border=\"1\" class=\"dataframe\">\n",
       "  <thead>\n",
       "    <tr style=\"text-align: right;\">\n",
       "      <th></th>\n",
       "      <th>Quarter</th>\n",
       "      <th>DocketNum</th>\n",
       "      <th>Name</th>\n",
       "      <th>AM Column</th>\n",
       "    </tr>\n",
       "    <tr>\n",
       "      <th>Index</th>\n",
       "      <th></th>\n",
       "      <th></th>\n",
       "      <th></th>\n",
       "      <th></th>\n",
       "    </tr>\n",
       "  </thead>\n",
       "  <tbody>\n",
       "    <tr>\n",
       "      <th>1</th>\n",
       "      <td>2002Q1</td>\n",
       "      <td>5000313</td>\n",
       "      <td>Arkansas Nuclear 1</td>\n",
       "      <td>1</td>\n",
       "    </tr>\n",
       "    <tr>\n",
       "      <th>2</th>\n",
       "      <td>2002Q2</td>\n",
       "      <td>5000313</td>\n",
       "      <td>Arkansas Nuclear 1</td>\n",
       "      <td>1</td>\n",
       "    </tr>\n",
       "    <tr>\n",
       "      <th>3</th>\n",
       "      <td>2002Q3</td>\n",
       "      <td>5000313</td>\n",
       "      <td>Arkansas Nuclear 1</td>\n",
       "      <td>1</td>\n",
       "    </tr>\n",
       "    <tr>\n",
       "      <th>4</th>\n",
       "      <td>2002Q4</td>\n",
       "      <td>5000313</td>\n",
       "      <td>Arkansas Nuclear 1</td>\n",
       "      <td>1</td>\n",
       "    </tr>\n",
       "    <tr>\n",
       "      <th>5</th>\n",
       "      <td>2003Q1</td>\n",
       "      <td>5000313</td>\n",
       "      <td>Arkansas Nuclear 1</td>\n",
       "      <td>1</td>\n",
       "    </tr>\n",
       "  </tbody>\n",
       "</table>\n",
       "</div>"
      ],
      "text/plain": [
       "      Quarter  DocketNum                Name  AM Column\n",
       "Index                                                  \n",
       "1      2002Q1    5000313  Arkansas Nuclear 1          1\n",
       "2      2002Q2    5000313  Arkansas Nuclear 1          1\n",
       "3      2002Q3    5000313  Arkansas Nuclear 1          1\n",
       "4      2002Q4    5000313  Arkansas Nuclear 1          1\n",
       "5      2003Q1    5000313  Arkansas Nuclear 1          1"
      ]
     },
     "execution_count": 29,
     "metadata": {},
     "output_type": "execute_result"
    }
   ],
   "source": [
    "actionmatrix.head()"
   ]
  },
  {
   "cell_type": "code",
   "execution_count": 30,
   "metadata": {},
   "outputs": [
    {
     "data": {
      "text/html": [
       "<div>\n",
       "<style scoped>\n",
       "    .dataframe tbody tr th:only-of-type {\n",
       "        vertical-align: middle;\n",
       "    }\n",
       "\n",
       "    .dataframe tbody tr th {\n",
       "        vertical-align: top;\n",
       "    }\n",
       "\n",
       "    .dataframe thead th {\n",
       "        text-align: right;\n",
       "    }\n",
       "</style>\n",
       "<table border=\"1\" class=\"dataframe\">\n",
       "  <thead>\n",
       "    <tr style=\"text-align: right;\">\n",
       "      <th></th>\n",
       "      <th>Quarter</th>\n",
       "      <th>DocketNum</th>\n",
       "      <th>Name</th>\n",
       "      <th>AM Column</th>\n",
       "    </tr>\n",
       "    <tr>\n",
       "      <th>Index</th>\n",
       "      <th></th>\n",
       "      <th></th>\n",
       "      <th></th>\n",
       "      <th></th>\n",
       "    </tr>\n",
       "  </thead>\n",
       "  <tbody>\n",
       "    <tr>\n",
       "      <th>7536</th>\n",
       "      <td>2019Q2</td>\n",
       "      <td>5000482</td>\n",
       "      <td>Wolf Creek 1</td>\n",
       "      <td>1</td>\n",
       "    </tr>\n",
       "    <tr>\n",
       "      <th>7537</th>\n",
       "      <td>2019Q3</td>\n",
       "      <td>5000482</td>\n",
       "      <td>Wolf Creek 1</td>\n",
       "      <td>1</td>\n",
       "    </tr>\n",
       "    <tr>\n",
       "      <th>7538</th>\n",
       "      <td>2019Q4</td>\n",
       "      <td>5000482</td>\n",
       "      <td>Wolf Creek 1</td>\n",
       "      <td>1</td>\n",
       "    </tr>\n",
       "    <tr>\n",
       "      <th>7539</th>\n",
       "      <td>2020Q1</td>\n",
       "      <td>5000482</td>\n",
       "      <td>Wolf Creek 1</td>\n",
       "      <td>1</td>\n",
       "    </tr>\n",
       "    <tr>\n",
       "      <th>7540</th>\n",
       "      <td>2020Q2</td>\n",
       "      <td>5000482</td>\n",
       "      <td>Wolf Creek 1</td>\n",
       "      <td>1</td>\n",
       "    </tr>\n",
       "  </tbody>\n",
       "</table>\n",
       "</div>"
      ],
      "text/plain": [
       "      Quarter  DocketNum          Name  AM Column\n",
       "Index                                            \n",
       "7536   2019Q2    5000482  Wolf Creek 1          1\n",
       "7537   2019Q3    5000482  Wolf Creek 1          1\n",
       "7538   2019Q4    5000482  Wolf Creek 1          1\n",
       "7539   2020Q1    5000482  Wolf Creek 1          1\n",
       "7540   2020Q2    5000482  Wolf Creek 1          1"
      ]
     },
     "execution_count": 30,
     "metadata": {},
     "output_type": "execute_result"
    }
   ],
   "source": [
    "actionmatrix.tail()"
   ]
  },
  {
   "cell_type": "code",
   "execution_count": 31,
   "metadata": {},
   "outputs": [
    {
     "data": {
      "text/plain": [
       "Quarter      object\n",
       "DocketNum     int64\n",
       "Name         object\n",
       "AM Column     int64\n",
       "dtype: object"
      ]
     },
     "execution_count": 31,
     "metadata": {},
     "output_type": "execute_result"
    }
   ],
   "source": [
    "actionmatrix.dtypes"
   ]
  },
  {
   "cell_type": "code",
   "execution_count": 32,
   "metadata": {},
   "outputs": [],
   "source": [
    "am = actionmatrix.loc[actionmatrix['Quarter'] >= '2002Q1']"
   ]
  },
  {
   "cell_type": "code",
   "execution_count": 33,
   "metadata": {},
   "outputs": [
    {
     "data": {
      "text/html": [
       "<div>\n",
       "<style scoped>\n",
       "    .dataframe tbody tr th:only-of-type {\n",
       "        vertical-align: middle;\n",
       "    }\n",
       "\n",
       "    .dataframe tbody tr th {\n",
       "        vertical-align: top;\n",
       "    }\n",
       "\n",
       "    .dataframe thead th {\n",
       "        text-align: right;\n",
       "    }\n",
       "</style>\n",
       "<table border=\"1\" class=\"dataframe\">\n",
       "  <thead>\n",
       "    <tr style=\"text-align: right;\">\n",
       "      <th></th>\n",
       "      <th>Quarter</th>\n",
       "      <th>DocketNum</th>\n",
       "      <th>Name</th>\n",
       "      <th>AM Column</th>\n",
       "    </tr>\n",
       "    <tr>\n",
       "      <th>Index</th>\n",
       "      <th></th>\n",
       "      <th></th>\n",
       "      <th></th>\n",
       "      <th></th>\n",
       "    </tr>\n",
       "  </thead>\n",
       "  <tbody>\n",
       "    <tr>\n",
       "      <th>1</th>\n",
       "      <td>2002Q1</td>\n",
       "      <td>5000313</td>\n",
       "      <td>Arkansas Nuclear 1</td>\n",
       "      <td>1</td>\n",
       "    </tr>\n",
       "    <tr>\n",
       "      <th>2</th>\n",
       "      <td>2002Q2</td>\n",
       "      <td>5000313</td>\n",
       "      <td>Arkansas Nuclear 1</td>\n",
       "      <td>1</td>\n",
       "    </tr>\n",
       "    <tr>\n",
       "      <th>3</th>\n",
       "      <td>2002Q3</td>\n",
       "      <td>5000313</td>\n",
       "      <td>Arkansas Nuclear 1</td>\n",
       "      <td>1</td>\n",
       "    </tr>\n",
       "    <tr>\n",
       "      <th>4</th>\n",
       "      <td>2002Q4</td>\n",
       "      <td>5000313</td>\n",
       "      <td>Arkansas Nuclear 1</td>\n",
       "      <td>1</td>\n",
       "    </tr>\n",
       "    <tr>\n",
       "      <th>5</th>\n",
       "      <td>2003Q1</td>\n",
       "      <td>5000313</td>\n",
       "      <td>Arkansas Nuclear 1</td>\n",
       "      <td>1</td>\n",
       "    </tr>\n",
       "  </tbody>\n",
       "</table>\n",
       "</div>"
      ],
      "text/plain": [
       "      Quarter  DocketNum                Name  AM Column\n",
       "Index                                                  \n",
       "1      2002Q1    5000313  Arkansas Nuclear 1          1\n",
       "2      2002Q2    5000313  Arkansas Nuclear 1          1\n",
       "3      2002Q3    5000313  Arkansas Nuclear 1          1\n",
       "4      2002Q4    5000313  Arkansas Nuclear 1          1\n",
       "5      2003Q1    5000313  Arkansas Nuclear 1          1"
      ]
     },
     "execution_count": 33,
     "metadata": {},
     "output_type": "execute_result"
    }
   ],
   "source": [
    "am.head()"
   ]
  },
  {
   "cell_type": "code",
   "execution_count": 34,
   "metadata": {},
   "outputs": [
    {
     "data": {
      "text/plain": [
       "array(['Arkansas Nuclear 1', 'Arkansas Nuclear 2', 'Beaver Valley 1',\n",
       "       'Beaver Valley 2', 'Braidwood 1', 'Braidwood 2', 'Browns Ferry 1',\n",
       "       'Browns Ferry 2', 'Browns Ferry 3', 'Brunswick 1', 'Brunswick 2',\n",
       "       'Byron 1', 'Byron 2', 'Callaway', 'Calvert Cliffs 1',\n",
       "       'Calvert Cliffs 2', 'Catawba 1', 'Catawba 2', 'Clinton',\n",
       "       'Columbia Generating Station', 'Comanche Peak 1',\n",
       "       'Comanche Peak 2', 'Cooper', 'Crystal River 3', 'D.C. Cook 1',\n",
       "       'D.C. Cook 2', 'Davis-Besse', 'Diablo Canyon 1', 'Diablo Canyon 2',\n",
       "       'Dresden 2', 'Dresden 3', 'Duane Arnold', 'Farley 1', 'Farley 2',\n",
       "       'Fermi 2', 'FitzPatrick', 'Fort Calhoun', 'Ginna', 'Grand Gulf 1',\n",
       "       'Harris 1', 'Hatch 1', 'Hatch 2', 'Hope Creek 1', 'Indian Point 2',\n",
       "       'Indian Point 3', 'Kewaunee', 'LaSalle 1', 'LaSalle 2',\n",
       "       'Limerick 1', 'Limerick 2', 'McGuire 1', 'McGuire 2',\n",
       "       'Millstone 2', 'Millstone 3', 'Monticello', 'Nine Mile Point 1',\n",
       "       'Nine Mile Point 2', 'North Anna 1', 'North Anna 2', 'Oconee 1',\n",
       "       'Oconee 2', 'Oconee 3', 'Oyster Creek', 'Palisades',\n",
       "       'Palo Verde 1', 'Palo Verde 2', 'Palo Verde 3', 'Peach Bottom 2',\n",
       "       'Peach Bottom 3', 'Perry 1', 'Pilgrim 1', 'Point Beach 1',\n",
       "       'Point Beach 2', 'Prairie Island 1', 'Prairie Island 2',\n",
       "       'Quad Cities 1', 'Quad Cities 2', 'River Bend 1', 'Robinson 2',\n",
       "       'Saint Lucie 1', 'Saint Lucie 2', 'Salem 1', 'Salem 2',\n",
       "       'San Onofre 2', 'San Onofre 3', 'Seabrook 1', 'Sequoyah 1',\n",
       "       'Sequoyah 2', 'South Texas 1', 'South Texas 2', 'Summer',\n",
       "       'Surry 1', 'Surry 2', 'Susquehanna 1', 'Susquehanna 2',\n",
       "       'Three Mile Island 1', 'Turkey Point 3', 'Turkey Point 4',\n",
       "       'Vermont Yankee', 'Vogtle 1', 'Vogtle 2', 'Waterford 3',\n",
       "       'Watts Bar 1', 'Watts Bar 2', 'Wolf Creek 1'], dtype=object)"
      ]
     },
     "execution_count": 34,
     "metadata": {},
     "output_type": "execute_result"
    }
   ],
   "source": [
    "am['Name'].unique()"
   ]
  },
  {
   "cell_type": "code",
   "execution_count": 35,
   "metadata": {},
   "outputs": [],
   "source": [
    "#looks good! it's a keeper\n",
    "am.to_excel('ActionMatrixdata.xlsx')"
   ]
  }
 ],
 "metadata": {
  "kernelspec": {
   "display_name": "Python 3",
   "language": "python",
   "name": "python3"
  },
  "language_info": {
   "codemirror_mode": {
    "name": "ipython",
    "version": 3
   },
   "file_extension": ".py",
   "mimetype": "text/x-python",
   "name": "python",
   "nbconvert_exporter": "python",
   "pygments_lexer": "ipython3",
   "version": "3.7.6"
  }
 },
 "nbformat": 4,
 "nbformat_minor": 4
}
